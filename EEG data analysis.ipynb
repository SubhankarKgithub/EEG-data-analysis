{
 "cells": [
  {
   "cell_type": "markdown",
   "id": "24004e00",
   "metadata": {},
   "source": [
    "# EEG Classification"
   ]
  },
  {
   "cell_type": "markdown",
   "id": "bbc288d6",
   "metadata": {},
   "source": [
    "#Import packages"
   ]
  },
  {
   "cell_type": "code",
   "execution_count": 2,
   "id": "f9fa3396",
   "metadata": {},
   "outputs": [],
   "source": [
    "from glob import glob\n",
    "import os\n",
    "import mne\n",
    "import numpy as np\n",
    "import pandas\n",
    "import matplotlib.pyplot as plt"
   ]
  },
  {
   "cell_type": "markdown",
   "id": "5397747f",
   "metadata": {},
   "source": [
    "#Import the files and create a variable"
   ]
  },
  {
   "cell_type": "code",
   "execution_count": 3,
   "id": "178a1121",
   "metadata": {},
   "outputs": [
    {
     "name": "stdout",
     "output_type": "stream",
     "text": [
      "28\n"
     ]
    }
   ],
   "source": [
    "all_file_path = glob('dataverse_files/*.edf')\n",
    "print(len(all_file_path))"
   ]
  },
  {
   "cell_type": "code",
   "execution_count": 4,
   "id": "8bb598b9",
   "metadata": {},
   "outputs": [
    {
     "data": {
      "text/plain": [
       "'dataverse_files\\\\h01.edf'"
      ]
     },
     "execution_count": 4,
     "metadata": {},
     "output_type": "execute_result"
    }
   ],
   "source": [
    "all_file_path[0]"
   ]
  },
  {
   "cell_type": "markdown",
   "id": "2614b2f5",
   "metadata": {},
   "source": [
    "#Separate healthy and shizophrenia patients"
   ]
  },
  {
   "cell_type": "code",
   "execution_count": 5,
   "id": "364a9594",
   "metadata": {},
   "outputs": [
    {
     "name": "stdout",
     "output_type": "stream",
     "text": [
      "14 14\n"
     ]
    }
   ],
   "source": [
    "healthy_file_path=[i for i in all_file_path if 'h' in i.split('\\\\')[1]]\n",
    "patient_file_path=[i for i in all_file_path if 's' in i.split('\\\\')[1]]\n",
    "print(len(healthy_file_path),len(patient_file_path))"
   ]
  },
  {
   "cell_type": "markdown",
   "id": "83bd2c1d",
   "metadata": {},
   "source": [
    "#Filter and segment data"
   ]
  },
  {
   "cell_type": "code",
   "execution_count": 6,
   "id": "55c9d5fe",
   "metadata": {},
   "outputs": [],
   "source": [
    "def read_data(file_path):\n",
    "    data=mne.io.read_raw_edf(file_path,preload=True)\n",
    "    data.set_eeg_reference()\n",
    "    data.filter(l_freq=0.5,h_freq=45)\n",
    "    epochs=mne.make_fixed_length_epochs(data,duration=5,overlap=1)\n",
    "    array=epochs.get_data()\n",
    "    return array"
   ]
  },
  {
   "cell_type": "code",
   "execution_count": 7,
   "id": "40ea2f07",
   "metadata": {},
   "outputs": [
    {
     "name": "stdout",
     "output_type": "stream",
     "text": [
      "Extracting EDF parameters from C:\\Users\\DIPANKAR KARMAKAR\\dataverse_files\\h01.edf...\n",
      "EDF file detected\n",
      "Setting channel info structure...\n",
      "Creating raw.info structure...\n",
      "Reading 0 ... 231249  =      0.000 ...   924.996 secs...\n",
      "EEG channel type selected for re-referencing\n",
      "Applying average reference.\n",
      "Applying a custom ('EEG',) reference.\n",
      "Filtering raw data in 1 contiguous segment\n",
      "Setting up band-pass filter from 0.5 - 45 Hz\n",
      "\n",
      "FIR filter parameters\n",
      "---------------------\n",
      "Designing a one-pass, zero-phase, non-causal bandpass filter:\n",
      "- Windowed time-domain design (firwin) method\n",
      "- Hamming window with 0.0194 passband ripple and 53 dB stopband attenuation\n",
      "- Lower passband edge: 0.50\n",
      "- Lower transition bandwidth: 0.50 Hz (-6 dB cutoff frequency: 0.25 Hz)\n",
      "- Upper passband edge: 45.00 Hz\n",
      "- Upper transition bandwidth: 11.25 Hz (-6 dB cutoff frequency: 50.62 Hz)\n",
      "- Filter length: 1651 samples (6.604 s)\n",
      "\n"
     ]
    },
    {
     "name": "stderr",
     "output_type": "stream",
     "text": [
      "[Parallel(n_jobs=1)]: Using backend SequentialBackend with 1 concurrent workers.\n",
      "[Parallel(n_jobs=1)]: Done   1 out of   1 | elapsed:    0.0s remaining:    0.0s\n",
      "[Parallel(n_jobs=1)]: Done   2 out of   2 | elapsed:    0.1s remaining:    0.0s\n",
      "[Parallel(n_jobs=1)]: Done   3 out of   3 | elapsed:    0.1s remaining:    0.0s\n",
      "[Parallel(n_jobs=1)]: Done   4 out of   4 | elapsed:    0.1s remaining:    0.0s\n"
     ]
    },
    {
     "name": "stdout",
     "output_type": "stream",
     "text": [
      "Not setting metadata\n",
      "231 matching events found\n",
      "No baseline correction applied\n",
      "0 projection items activated\n",
      "Using data from preloaded Raw for 231 events and 1250 original time points ...\n"
     ]
    },
    {
     "name": "stderr",
     "output_type": "stream",
     "text": [
      "[Parallel(n_jobs=1)]: Done  19 out of  19 | elapsed:    0.6s finished\n"
     ]
    },
    {
     "name": "stdout",
     "output_type": "stream",
     "text": [
      "0 bad epochs dropped\n"
     ]
    }
   ],
   "source": [
    "sample_data=read_data(healthy_file_path[0])"
   ]
  },
  {
   "cell_type": "code",
   "execution_count": 8,
   "id": "a8d16bd6",
   "metadata": {},
   "outputs": [
    {
     "data": {
      "text/plain": [
       "(231, 19, 1250)"
      ]
     },
     "execution_count": 8,
     "metadata": {},
     "output_type": "execute_result"
    }
   ],
   "source": [
    "sample_data.shape # number of epochs, channels, length of signal"
   ]
  },
  {
   "cell_type": "code",
   "execution_count": 9,
   "id": "5da36dd3",
   "metadata": {},
   "outputs": [],
   "source": [
    "%%capture\n",
    "control_epochs_array=[read_data(i) for i in healthy_file_path]\n",
    "patient_epochs_array=[read_data(i) for i in patient_file_path]"
   ]
  },
  {
   "cell_type": "code",
   "execution_count": 10,
   "id": "9b84c05e",
   "metadata": {},
   "outputs": [
    {
     "data": {
      "text/plain": [
       "((231, 19, 1250), (227, 19, 1250))"
      ]
     },
     "execution_count": 10,
     "metadata": {},
     "output_type": "execute_result"
    }
   ],
   "source": [
    "control_epochs_array[0].shape,control_epochs_array[1].shape"
   ]
  },
  {
   "cell_type": "code",
   "execution_count": 11,
   "id": "cbb3f78a",
   "metadata": {},
   "outputs": [
    {
     "data": {
      "text/plain": [
       "(14, 14)"
      ]
     },
     "execution_count": 11,
     "metadata": {},
     "output_type": "execute_result"
    }
   ],
   "source": [
    "control_epoch_labels=[len(i)*[0] for i in control_epochs_array]\n",
    "patient_epoch_labels=[len(i)*[0] for i in patient_epochs_array]\n",
    "len(control_epoch_labels),len(patient_epoch_labels)"
   ]
  },
  {
   "cell_type": "code",
   "execution_count": 12,
   "id": "66ff611d",
   "metadata": {},
   "outputs": [],
   "source": [
    "data_list=control_epochs_array+patient_epochs_array\n",
    "label_list=control_epoch_labels+patient_epoch_labels"
   ]
  },
  {
   "cell_type": "code",
   "execution_count": 13,
   "id": "20b0cd3f",
   "metadata": {},
   "outputs": [
    {
     "data": {
      "text/plain": [
       "28"
      ]
     },
     "execution_count": 13,
     "metadata": {},
     "output_type": "execute_result"
    }
   ],
   "source": [
    "group_list=[[i]*len(j) for i,j in enumerate(data_list)]\n",
    "len(group_list)"
   ]
  },
  {
   "cell_type": "code",
   "execution_count": 14,
   "id": "7b04e21b",
   "metadata": {},
   "outputs": [
    {
     "name": "stdout",
     "output_type": "stream",
     "text": [
      "(7201, 19, 1250) (7201,) (7201,)\n"
     ]
    }
   ],
   "source": [
    "data_array=np.vstack(data_list)\n",
    "label_array=np.hstack(label_list)\n",
    "group_array=np.hstack(group_list)\n",
    "print(data_array.shape,label_array.shape,group_array.shape)"
   ]
  },
  {
   "cell_type": "code",
   "execution_count": null,
   "id": "1dd03176",
   "metadata": {},
   "outputs": [],
   "source": []
  }
 ],
 "metadata": {
  "kernelspec": {
   "display_name": "Python 3 (ipykernel)",
   "language": "python",
   "name": "python3"
  },
  "language_info": {
   "codemirror_mode": {
    "name": "ipython",
    "version": 3
   },
   "file_extension": ".py",
   "mimetype": "text/x-python",
   "name": "python",
   "nbconvert_exporter": "python",
   "pygments_lexer": "ipython3",
   "version": "3.10.9"
  }
 },
 "nbformat": 4,
 "nbformat_minor": 5
}
